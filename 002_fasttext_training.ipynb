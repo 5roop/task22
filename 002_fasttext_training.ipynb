{
 "cells": [
  {
   "cell_type": "code",
   "execution_count": 1,
   "metadata": {},
   "outputs": [],
   "source": [
    "import os\n",
    "import parse\n",
    "import fasttext\n",
    "import pandas as pd\n",
    "import matplotlib.pyplot as plt\n",
    "from pathlib import Path\n",
    "from sklearn.metrics import accuracy_score, f1_score\n",
    "\n",
    "from typing import Union, List, Tuple\n",
    "def get_labels_text(path: Union[str, Path]) -> Tuple[List[str], List[str]]:\n",
    "    \"\"\"Reads fasttext formatted file and extracts labels and text\n",
    "\n",
    "    Args:\n",
    "        path (Union[str, Path]): file, each line being a document. \n",
    "                                Line should start with __label__XX for label XX\n",
    "\n",
    "    Returns:\n",
    "        Tuple[List[str], List[str]]: Labels, texts\n",
    "    \"\"\"    \n",
    "    labels, texts = list(), list()\n",
    "    with open(str(path),\"r\") as f:\n",
    "        pattern = \"__label__{language} {text}\"\n",
    "        p = parse.compile(pattern)\n",
    "        for line in f.readlines():\n",
    "            rez = p.parse(line)\n",
    "            labels.append(rez[\"language\"])\n",
    "            texts.append(rez[\"text\"].replace(\"\\n\", \" \"))\n",
    "    return labels, texts\n",
    "\n"
   ]
  },
  {
   "cell_type": "code",
   "execution_count": 2,
   "metadata": {},
   "outputs": [
    {
     "name": "stderr",
     "output_type": "stream",
     "text": [
      "Warning : maxn is manually set to a specific value. It will not be automatically optimized.\n",
      "Progress: 100.0% Trials:   14 Best score:  0.705357 ETA:   0h 0m 0s\n",
      "Training again with best arguments\n",
      "Read 2M words\n",
      "Number of words:  333991\n",
      "Number of labels: 3\n",
      "Progress: 100.0% words/sec/thread:  168418 lr:  0.000000 avg.loss:  1.102525 ETA:   0h 0m 0s\n"
     ]
    },
    {
     "name": "stdout",
     "output_type": "stream",
     "text": [
      "Accuracy: 0.705\n",
      "macro F1 score: 0.276\n",
      "              precision    recall  f1-score   support\n",
      "\n",
      "          hr       0.00      0.00      0.00        18\n",
      "          bs       0.00      0.00      0.00        15\n",
      "          sr       0.71      1.00      0.83        79\n",
      "\n",
      "    accuracy                           0.71       112\n",
      "   macro avg       0.24      0.33      0.28       112\n",
      "weighted avg       0.50      0.71      0.58       112\n",
      "\n"
     ]
    },
    {
     "name": "stderr",
     "output_type": "stream",
     "text": [
      "/home/peterr/anaconda3/lib/python3.8/site-packages/sklearn/metrics/_classification.py:1327: UndefinedMetricWarning: Precision and F-score are ill-defined and being set to 0.0 in labels with no predicted samples. Use `zero_division` parameter to control this behavior.\n",
      "  _warn_prf(average, modifier, msg_start, len(result))\n",
      "/home/peterr/anaconda3/lib/python3.8/site-packages/sklearn/metrics/_classification.py:1327: UndefinedMetricWarning: Precision and F-score are ill-defined and being set to 0.0 in labels with no predicted samples. Use `zero_division` parameter to control this behavior.\n",
      "  _warn_prf(average, modifier, msg_start, len(result))\n",
      "/home/peterr/anaconda3/lib/python3.8/site-packages/sklearn/metrics/_classification.py:1327: UndefinedMetricWarning: Precision and F-score are ill-defined and being set to 0.0 in labels with no predicted samples. Use `zero_division` parameter to control this behavior.\n",
      "  _warn_prf(average, modifier, msg_start, len(result))\n"
     ]
    }
   ],
   "source": [
    "\n",
    "from sklearn.metrics import accuracy_score, f1_score, classification_report\n",
    "\n",
    "train = str(\n",
    "    Path(\"data/interim/Twitter_train.fasttext\")\n",
    ")\n",
    "dev = str(\n",
    "    Path(\"data/interim/Twitter_dev.fasttext\")\n",
    ")\n",
    "\n",
    "model = fasttext.train_supervised(input=train, autotuneValidationFile=dev, autotuneDuration=600,\n",
    "                                    maxn=10\n",
    "                                    )\n",
    "test = str(\n",
    "    Path(\"data/interim/Twitter_test.fasttext\")\n",
    ")\n",
    "y_true, texts = get_labels_text(test)\n",
    "y_pred =  [i[0].replace(\"__label__\", \"\") for i in model.predict(texts)[0]]\n",
    "accuracy = accuracy_score(y_true, y_pred)\n",
    "print(f\"Accuracy: {accuracy:0.3}\")\n",
    "f1 = f1_score(y_true, y_pred, labels=list(set(y_true)), average=\"macro\")\n",
    "print(f\"macro F1 score: {f1:0.3}\")\n",
    "\n",
    "print(classification_report(\n",
    "    y_true, y_pred, labels = \"hr bs sr\".split(), \n",
    "    ))\n"
   ]
  },
  {
   "cell_type": "code",
   "execution_count": 3,
   "metadata": {},
   "outputs": [
    {
     "name": "stderr",
     "output_type": "stream",
     "text": [
      "Warning : maxn is manually set to a specific value. It will not be automatically optimized.\n",
      "Progress: 100.0% Trials:    7 Best score:  0.993769 ETA:   0h 0m 0s\n",
      "Training again with best arguments\n",
      "Read 6M words\n",
      "Number of words:  294151\n",
      "Number of labels: 3\n",
      "Progress: 100.0% words/sec/thread:   89813 lr:  0.000000 avg.loss:  0.487643 ETA:   0h 0m 0s\n"
     ]
    },
    {
     "name": "stdout",
     "output_type": "stream",
     "text": [
      "Accuracy: 0.989\n",
      "macro F1 score: 0.989\n",
      "              precision    recall  f1-score   support\n",
      "\n",
      "          hr       1.00      0.98      0.99       313\n",
      "          bs       0.97      0.99      0.98       312\n",
      "          sr       1.00      0.99      0.99       296\n",
      "\n",
      "    accuracy                           0.99       921\n",
      "   macro avg       0.99      0.99      0.99       921\n",
      "weighted avg       0.99      0.99      0.99       921\n",
      "\n"
     ]
    }
   ],
   "source": [
    "train = str(\n",
    "    Path(\"data/interim/SETimes_train.fasttext\")\n",
    ")\n",
    "dev = str(\n",
    "    Path(\"data/interim/SETimes_dev.fasttext\")\n",
    ")\n",
    "\n",
    "model = fasttext.train_supervised(input=train, autotuneValidationFile=dev, autotuneDuration=600,\n",
    "                                    maxn=10\n",
    "                                    )\n",
    "test = str(\n",
    "    Path(\"data/interim/SETimes_test.fasttext\")\n",
    ")\n",
    "\n",
    "y_true, texts = get_labels_text(test)\n",
    "y_pred =  [i[0].replace(\"__label__\", \"\") for i in model.predict(texts)[0]]\n",
    "accuracy = accuracy_score(y_true, y_pred)\n",
    "print(f\"Accuracy: {accuracy:0.3}\")\n",
    "f1 = f1_score(y_true, y_pred, labels=list(set(y_true)), average=\"macro\")\n",
    "print(f\"macro F1 score: {f1:0.3}\")\n",
    "\n",
    "print(classification_report(\n",
    "    y_true, y_pred, labels = \"hr bs sr\".split(), \n",
    "    ))"
   ]
  },
  {
   "cell_type": "code",
   "execution_count": 9,
   "metadata": {},
   "outputs": [
    {
     "name": "stderr",
     "output_type": "stream",
     "text": [
      "Warning : maxn is manually set to a specific value. It will not be automatically optimized.\n",
      "Progress: 100.0% Trials:    7 Best score:  0.993769 ETA:   0h 0m 0s\n",
      "Training again with best arguments\n",
      "Read 6M words\n",
      "Number of words:  294151\n",
      "Number of labels: 3\n",
      "Progress: 100.0% words/sec/thread:   91448 lr:  0.000000 avg.loss:  0.482010 ETA:   0h 0m 0s\n",
      "Warning : maxn is manually set to a specific value. It will not be automatically optimized.\n",
      "Progress: 100.0% Trials:    7 Best score:  0.993769 ETA:   0h 0m 0s\n",
      "Training again with best arguments\n",
      "Read 6M words\n",
      "Number of words:  294151\n",
      "Number of labels: 3\n",
      "Progress: 100.0% words/sec/thread:   85493 lr:  0.000000 avg.loss:  0.482269 ETA:   0h 0m 0s\n",
      "Warning : maxn is manually set to a specific value. It will not be automatically optimized.\n",
      "Progress: 100.0% Trials:    7 Best score:  0.992731 ETA:   0h 0m 0s\n",
      "Training again with best arguments\n",
      "Read 6M words\n",
      "Number of words:  294151\n",
      "Number of labels: 3\n",
      "Progress:   5.5% words/sec/thread:   86487 lr:  0.319706 avg.loss:  1.102535 ETA:   0h 2m17s"
     ]
    }
   ],
   "source": [
    "results = {\n",
    "    \"train on SETimes, test on SETimes\": {\n",
    "        \"train\": str(Path(\"data/interim/SETimes_train.fasttext\")),\n",
    "        \"test\": str(Path(\"data/interim/SETimes_test.fasttext\"))\n",
    "    },\n",
    "    \"train on SETimes, test on Twitter\": {\n",
    "        \"train\": str(Path(\"data/interim/SETimes_train.fasttext\")),\n",
    "        \"test\": str(Path(\"data/interim/Twitter_test.fasttext\"))\n",
    "    },\n",
    "    \"train on Twitter, test on SETimes\":{\n",
    "        \"train\": str(Path(\"data/interim/Twitter_train.fasttext\")),\n",
    "        \"test\": str(Path(\"data/interim/SETimes_test.fasttext\"))\n",
    "    },\n",
    "    \"train on Twitter, test on Twitter\": {\n",
    "        \"train\": str(Path(\"data/interim/Twitter_train.fasttext\")),\n",
    "        \"test\": str(Path(\"data/interim/Twitter_test.fasttext\"))\n",
    "    }\n",
    "}\n",
    "for setup in results:\n",
    "    train = results[setup][\"train\"]\n",
    "    test = results[setup][\"test\"]\n",
    "    dev = results[setup][\"train\"].replace(\"train\", \"dev\")\n",
    "    results[setup][\"runs\"] = []\n",
    "    for i in range(5):\n",
    "        model = fasttext.train_supervised(input=train, \n",
    "                                          autotuneValidationFile=dev,\n",
    "                                          autotuneDuration=600,\n",
    "                                          maxn=10\n",
    "                                    )\n",
    "        y_true, texts = get_labels_text(test)\n",
    "        y_pred =  [i[0].replace(\"__label__\", \"\") for i in model.predict(texts)[0]]\n",
    "        accuracy = accuracy_score(y_true, y_pred)\n",
    "        f1 = f1_score(y_true, y_pred, labels = \"hr bs sr\".split(),  average=\"macro\")\n",
    "        results[setup][\"runs\"].append({\n",
    "            \"accuracy\": accuracy,\n",
    "            \"macroF1\": f1,\n",
    "            \"y_true\": y_true,\n",
    "            \"y_pred\": y_pred\n",
    "        })\n",
    "        with open(\"002_fasttext_results.json\", \"w\") as f:\n",
    "            import json\n",
    "            json.dump(results, f)\n"
   ]
  },
  {
   "cell_type": "code",
   "execution_count": null,
   "metadata": {},
   "outputs": [],
   "source": []
  }
 ],
 "metadata": {
  "kernelspec": {
   "display_name": "base",
   "language": "python",
   "name": "python3"
  },
  "language_info": {
   "codemirror_mode": {
    "name": "ipython",
    "version": 3
   },
   "file_extension": ".py",
   "mimetype": "text/x-python",
   "name": "python",
   "nbconvert_exporter": "python",
   "pygments_lexer": "ipython3",
   "version": "3.8.3"
  },
  "orig_nbformat": 4,
  "vscode": {
   "interpreter": {
    "hash": "7f6f5766036ee03d059e365a942add07f79c17033585e9357ee8157d52fe6bb9"
   }
  }
 },
 "nbformat": 4,
 "nbformat_minor": 2
}
